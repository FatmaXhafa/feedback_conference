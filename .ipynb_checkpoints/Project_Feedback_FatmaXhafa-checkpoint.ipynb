{
 "cells": [
  {
   "cell_type": "code",
   "execution_count": 1,
   "metadata": {},
   "outputs": [],
   "source": [
    "#Setting up Spark, importing required libraries, and creating the Spark Context + Session"
   ]
  },
  {
   "cell_type": "code",
   "execution_count": 2,
   "metadata": {},
   "outputs": [],
   "source": [
    "import findspark\n",
    "findspark.init()"
   ]
  },
  {
   "cell_type": "code",
   "execution_count": 3,
   "metadata": {},
   "outputs": [],
   "source": [
    "import seaborn as sns \n",
    "import matplotlib.pyplot as plt\n",
    "import pyspark\n",
    "import pyspark.sql.functions as sf\n",
    "from pyspark.sql import SparkSession\n",
    "from pyspark.sql.functions import col, lit \n",
    "from pyspark.sql.types import StringType, LongType, IntegerType"
   ]
  },
  {
   "cell_type": "code",
   "execution_count": 4,
   "metadata": {},
   "outputs": [],
   "source": [
    "sns.set()  # Sets the default theme for seaborn"
   ]
  },
  {
   "cell_type": "code",
   "execution_count": 5,
   "metadata": {},
   "outputs": [],
   "source": [
    "sc = pyspark.SparkContext(appName='COS310')\n",
    "spark = SparkSession(sc)"
   ]
  },
  {
   "cell_type": "code",
   "execution_count": 6,
   "metadata": {},
   "outputs": [],
   "source": [
    "# Loading the necessary files. Also, the separator here will not be a comma, but a pipe (|) because \n",
    "# it is a character that is not used in the file\n",
    "feedback = spark.read.csv('./Feedback_Conference.csv', header=True, inferSchema=True, sep=\"|\")"
   ]
  },
  {
   "cell_type": "code",
   "execution_count": 7,
   "metadata": {},
   "outputs": [
    {
     "name": "stdout",
     "output_type": "stream",
     "text": [
      "root\n",
      " |-- id: double (nullable = true)\n",
      " |-- link: string (nullable = true)\n",
      " |-- name: string (nullable = true)\n",
      " |-- content: string (nullable = true)\n",
      " |-- year: integer (nullable = true)\n",
      "\n"
     ]
    }
   ],
   "source": [
    "feedback.printSchema() #here, the data fields or the columns can be seen "
   ]
  },
  {
   "cell_type": "code",
   "execution_count": 8,
   "metadata": {},
   "outputs": [
    {
     "data": {
      "text/html": [
       "<div>\n",
       "<style scoped>\n",
       "    .dataframe tbody tr th:only-of-type {\n",
       "        vertical-align: middle;\n",
       "    }\n",
       "\n",
       "    .dataframe tbody tr th {\n",
       "        vertical-align: top;\n",
       "    }\n",
       "\n",
       "    .dataframe thead th {\n",
       "        text-align: right;\n",
       "    }\n",
       "</style>\n",
       "<table border=\"1\" class=\"dataframe\">\n",
       "  <thead>\n",
       "    <tr style=\"text-align: right;\">\n",
       "      <th></th>\n",
       "      <th>id</th>\n",
       "      <th>link</th>\n",
       "      <th>name</th>\n",
       "      <th>content</th>\n",
       "      <th>year</th>\n",
       "    </tr>\n",
       "  </thead>\n",
       "  <tbody>\n",
       "    <tr>\n",
       "      <th>0</th>\n",
       "      <td>100001.0</td>\n",
       "      <td>https://drive.google.com/file/d/1ytexxQ7wb1EER...</td>\n",
       "      <td>Feedback_SC_2015</td>\n",
       "      <td>To sell more tickets by starting the sale more...</td>\n",
       "      <td>2015</td>\n",
       "    </tr>\n",
       "    <tr>\n",
       "      <th>1</th>\n",
       "      <td>100002.0</td>\n",
       "      <td>https://drive.google.com/file/d/18QNOPP6zvQI30...</td>\n",
       "      <td>Feedback_SC_2016</td>\n",
       "      <td>\"StartUP Conference 2016 Feedback It is good f...</td>\n",
       "      <td>2016</td>\n",
       "    </tr>\n",
       "    <tr>\n",
       "      <th>2</th>\n",
       "      <td>100003.0</td>\n",
       "      <td>https://drive.google.com/file/d/1iNQyAY-KiStMV...</td>\n",
       "      <td>Feedback_SC_2017</td>\n",
       "      <td>StartUP Conference 2017 Feedback SessionIt's b...</td>\n",
       "      <td>2017</td>\n",
       "    </tr>\n",
       "    <tr>\n",
       "      <th>3</th>\n",
       "      <td>100004.0</td>\n",
       "      <td>https://drive.google.com/file/d/1CJoPLqvI_GVjG...</td>\n",
       "      <td>Feedback_SC_2018</td>\n",
       "      <td>\"Feedback: Best conference ever, liked the spe...</td>\n",
       "      <td>2018</td>\n",
       "    </tr>\n",
       "    <tr>\n",
       "      <th>4</th>\n",
       "      <td>100005.0</td>\n",
       "      <td>https://drive.google.com/file/d/1S_4uXh_M9v0sq...</td>\n",
       "      <td>Feedback_SC_2019</td>\n",
       "      <td>Feedback   Example- Name:  your Feedback (posi...</td>\n",
       "      <td>2019</td>\n",
       "    </tr>\n",
       "  </tbody>\n",
       "</table>\n",
       "</div>"
      ],
      "text/plain": [
       "         id                                               link  \\\n",
       "0  100001.0  https://drive.google.com/file/d/1ytexxQ7wb1EER...   \n",
       "1  100002.0  https://drive.google.com/file/d/18QNOPP6zvQI30...   \n",
       "2  100003.0  https://drive.google.com/file/d/1iNQyAY-KiStMV...   \n",
       "3  100004.0  https://drive.google.com/file/d/1CJoPLqvI_GVjG...   \n",
       "4  100005.0  https://drive.google.com/file/d/1S_4uXh_M9v0sq...   \n",
       "\n",
       "               name                                            content  year  \n",
       "0  Feedback_SC_2015  To sell more tickets by starting the sale more...  2015  \n",
       "1  Feedback_SC_2016  \"StartUP Conference 2016 Feedback It is good f...  2016  \n",
       "2  Feedback_SC_2017  StartUP Conference 2017 Feedback SessionIt's b...  2017  \n",
       "3  Feedback_SC_2018  \"Feedback: Best conference ever, liked the spe...  2018  \n",
       "4  Feedback_SC_2019  Feedback   Example- Name:  your Feedback (posi...  2019  "
      ]
     },
     "execution_count": 8,
     "metadata": {},
     "output_type": "execute_result"
    }
   ],
   "source": [
    "# there are only 5 rows of data from the feedback sessions of the StartUP conference throughout the years (2015-2019), so \n",
    "# it doesnt matter which number we type when displaying data, it will only show 5 rows\n",
    "feedback.limit(10).toPandas()"
   ]
  },
  {
   "cell_type": "code",
   "execution_count": 9,
   "metadata": {},
   "outputs": [
    {
     "data": {
      "text/plain": [
       "DataFrame[id: double]"
      ]
     },
     "execution_count": 9,
     "metadata": {},
     "output_type": "execute_result"
    }
   ],
   "source": [
    "feedback.select('id') #since the id column is a double, it is selected in order to be casted to an integer"
   ]
  },
  {
   "cell_type": "code",
   "execution_count": 10,
   "metadata": {},
   "outputs": [],
   "source": [
    "feedback = feedback.withColumn('id', col('id').cast(IntegerType())) #import IntegerType"
   ]
  },
  {
   "cell_type": "code",
   "execution_count": 11,
   "metadata": {},
   "outputs": [
    {
     "name": "stdout",
     "output_type": "stream",
     "text": [
      "root\n",
      " |-- id: integer (nullable = true)\n",
      " |-- link: string (nullable = true)\n",
      " |-- name: string (nullable = true)\n",
      " |-- content: string (nullable = true)\n",
      " |-- year: integer (nullable = true)\n",
      "\n"
     ]
    }
   ],
   "source": [
    "feedback.printSchema() #the double type is casted to integer "
   ]
  },
  {
   "cell_type": "code",
   "execution_count": 12,
   "metadata": {},
   "outputs": [
    {
     "data": {
      "text/html": [
       "<div>\n",
       "<style scoped>\n",
       "    .dataframe tbody tr th:only-of-type {\n",
       "        vertical-align: middle;\n",
       "    }\n",
       "\n",
       "    .dataframe tbody tr th {\n",
       "        vertical-align: top;\n",
       "    }\n",
       "\n",
       "    .dataframe thead th {\n",
       "        text-align: right;\n",
       "    }\n",
       "</style>\n",
       "<table border=\"1\" class=\"dataframe\">\n",
       "  <thead>\n",
       "    <tr style=\"text-align: right;\">\n",
       "      <th></th>\n",
       "      <th>id</th>\n",
       "      <th>link</th>\n",
       "      <th>name</th>\n",
       "      <th>content</th>\n",
       "      <th>year</th>\n",
       "    </tr>\n",
       "  </thead>\n",
       "  <tbody>\n",
       "    <tr>\n",
       "      <th>0</th>\n",
       "      <td>100001</td>\n",
       "      <td>https://drive.google.com/file/d/1ytexxQ7wb1EER...</td>\n",
       "      <td>Feedback_SC_2015</td>\n",
       "      <td>To sell more tickets by starting the sale more...</td>\n",
       "      <td>2015</td>\n",
       "    </tr>\n",
       "    <tr>\n",
       "      <th>1</th>\n",
       "      <td>100002</td>\n",
       "      <td>https://drive.google.com/file/d/18QNOPP6zvQI30...</td>\n",
       "      <td>Feedback_SC_2016</td>\n",
       "      <td>\"StartUP Conference 2016 Feedback It is good f...</td>\n",
       "      <td>2016</td>\n",
       "    </tr>\n",
       "    <tr>\n",
       "      <th>2</th>\n",
       "      <td>100003</td>\n",
       "      <td>https://drive.google.com/file/d/1iNQyAY-KiStMV...</td>\n",
       "      <td>Feedback_SC_2017</td>\n",
       "      <td>StartUP Conference 2017 Feedback SessionIt's b...</td>\n",
       "      <td>2017</td>\n",
       "    </tr>\n",
       "    <tr>\n",
       "      <th>3</th>\n",
       "      <td>100004</td>\n",
       "      <td>https://drive.google.com/file/d/1CJoPLqvI_GVjG...</td>\n",
       "      <td>Feedback_SC_2018</td>\n",
       "      <td>\"Feedback: Best conference ever, liked the spe...</td>\n",
       "      <td>2018</td>\n",
       "    </tr>\n",
       "    <tr>\n",
       "      <th>4</th>\n",
       "      <td>100005</td>\n",
       "      <td>https://drive.google.com/file/d/1S_4uXh_M9v0sq...</td>\n",
       "      <td>Feedback_SC_2019</td>\n",
       "      <td>Feedback   Example- Name:  your Feedback (posi...</td>\n",
       "      <td>2019</td>\n",
       "    </tr>\n",
       "  </tbody>\n",
       "</table>\n",
       "</div>"
      ],
      "text/plain": [
       "       id                                               link  \\\n",
       "0  100001  https://drive.google.com/file/d/1ytexxQ7wb1EER...   \n",
       "1  100002  https://drive.google.com/file/d/18QNOPP6zvQI30...   \n",
       "2  100003  https://drive.google.com/file/d/1iNQyAY-KiStMV...   \n",
       "3  100004  https://drive.google.com/file/d/1CJoPLqvI_GVjG...   \n",
       "4  100005  https://drive.google.com/file/d/1S_4uXh_M9v0sq...   \n",
       "\n",
       "               name                                            content  year  \n",
       "0  Feedback_SC_2015  To sell more tickets by starting the sale more...  2015  \n",
       "1  Feedback_SC_2016  \"StartUP Conference 2016 Feedback It is good f...  2016  \n",
       "2  Feedback_SC_2017  StartUP Conference 2017 Feedback SessionIt's b...  2017  \n",
       "3  Feedback_SC_2018  \"Feedback: Best conference ever, liked the spe...  2018  \n",
       "4  Feedback_SC_2019  Feedback   Example- Name:  your Feedback (posi...  2019  "
      ]
     },
     "execution_count": 12,
     "metadata": {},
     "output_type": "execute_result"
    }
   ],
   "source": [
    "feedback.limit(10).toPandas() #as we can see, the id column is casted to integer type"
   ]
  },
  {
   "cell_type": "code",
   "execution_count": 13,
   "metadata": {},
   "outputs": [],
   "source": [
    "feedback=feedback.select('content') #selecting the content column in order to do data operations"
   ]
  },
  {
   "cell_type": "code",
   "execution_count": 14,
   "metadata": {},
   "outputs": [],
   "source": [
    "# splitting the words from the content column because we will need to look into the words separately\n",
    "feedback = feedback.withColumn('content_words', sf.split(feedback['content'], ' ')) "
   ]
  },
  {
   "cell_type": "code",
   "execution_count": 15,
   "metadata": {},
   "outputs": [],
   "source": [
    "# the words that we split are exploded in another column, \"exploded_words\"\n",
    "feedback = feedback.withColumn('exploded_words', sf.explode(feedback['content_words']))\n",
    "feedback = feedback.withColumn('exploded_words', sf.lower(feedback['exploded_words']))\n",
    "#filtering the words with length > 4 because we don't want to see connectors\n",
    "feedback = feedback.filter(sf.length(feedback['exploded_words']) > 5)"
   ]
  },
  {
   "cell_type": "code",
   "execution_count": 16,
   "metadata": {},
   "outputs": [],
   "source": [
    "#grouping the exploded words and measuring their frequency in the files\n",
    "words_feedback = (feedback\n",
    "            .groupBy('exploded_words')\n",
    "            .agg(sf.count('*').alias('word_count'))\n",
    "            .sort('word_count', ascending=False))"
   ]
  },
  {
   "cell_type": "code",
   "execution_count": 17,
   "metadata": {},
   "outputs": [
    {
     "data": {
      "text/html": [
       "<div>\n",
       "<style scoped>\n",
       "    .dataframe tbody tr th:only-of-type {\n",
       "        vertical-align: middle;\n",
       "    }\n",
       "\n",
       "    .dataframe tbody tr th {\n",
       "        vertical-align: top;\n",
       "    }\n",
       "\n",
       "    .dataframe thead th {\n",
       "        text-align: right;\n",
       "    }\n",
       "</style>\n",
       "<table border=\"1\" class=\"dataframe\">\n",
       "  <thead>\n",
       "    <tr style=\"text-align: right;\">\n",
       "      <th></th>\n",
       "      <th>exploded_words</th>\n",
       "      <th>word_count</th>\n",
       "    </tr>\n",
       "  </thead>\n",
       "  <tbody>\n",
       "    <tr>\n",
       "      <th>0</th>\n",
       "      <td>people</td>\n",
       "      <td>112</td>\n",
       "    </tr>\n",
       "    <tr>\n",
       "      <th>1</th>\n",
       "      <td>should</td>\n",
       "      <td>73</td>\n",
       "    </tr>\n",
       "    <tr>\n",
       "      <th>2</th>\n",
       "      <td>speakers</td>\n",
       "      <td>53</td>\n",
       "    </tr>\n",
       "    <tr>\n",
       "      <th>3</th>\n",
       "      <td>conference</td>\n",
       "      <td>37</td>\n",
       "    </tr>\n",
       "    <tr>\n",
       "      <th>4</th>\n",
       "      <td>everyone</td>\n",
       "      <td>35</td>\n",
       "    </tr>\n",
       "    <tr>\n",
       "      <th>5</th>\n",
       "      <td>because</td>\n",
       "      <td>34</td>\n",
       "    </tr>\n",
       "    <tr>\n",
       "      <th>6</th>\n",
       "      <td>better</td>\n",
       "      <td>29</td>\n",
       "    </tr>\n",
       "    <tr>\n",
       "      <th>7</th>\n",
       "      <td>workshops</td>\n",
       "      <td>26</td>\n",
       "    </tr>\n",
       "    <tr>\n",
       "      <th>8</th>\n",
       "      <td>before</td>\n",
       "      <td>22</td>\n",
       "    </tr>\n",
       "    <tr>\n",
       "      <th>9</th>\n",
       "      <td>marketing</td>\n",
       "      <td>21</td>\n",
       "    </tr>\n",
       "  </tbody>\n",
       "</table>\n",
       "</div>"
      ],
      "text/plain": [
       "  exploded_words  word_count\n",
       "0         people         112\n",
       "1         should          73\n",
       "2       speakers          53\n",
       "3     conference          37\n",
       "4       everyone          35\n",
       "5        because          34\n",
       "6         better          29\n",
       "7      workshops          26\n",
       "8         before          22\n",
       "9      marketing          21"
      ]
     },
     "metadata": {},
     "output_type": "display_data"
    }
   ],
   "source": [
    "top10words = words_feedback.limit(10).toPandas() \n",
    "display(top10words)"
   ]
  },
  {
   "cell_type": "code",
   "execution_count": 18,
   "metadata": {},
   "outputs": [
    {
     "data": {
      "text/plain": [
       "<matplotlib.axes._subplots.AxesSubplot at 0x1f343dd2808>"
      ]
     },
     "execution_count": 18,
     "metadata": {},
     "output_type": "execute_result"
    },
    {
     "data": {
      "image/png": "[encoded data removed]",
      "text/plain": [
       "<Figure size 432x288 with 1 Axes>"
      ]
     },
     "metadata": {},
     "output_type": "display_data"
    }
   ],
   "source": [
    "#displaying the bar chart for the top 10 words\n",
    "sns.barplot(x=\"exploded_words\", y=\"word_count\", data=top10words)"
   ]
  },
  {
   "cell_type": "code",
   "execution_count": 19,
   "metadata": {},
   "outputs": [
    {
     "data": {
      "text/html": [
       "<div>\n",
       "<style scoped>\n",
       "    .dataframe tbody tr th:only-of-type {\n",
       "        vertical-align: middle;\n",
       "    }\n",
       "\n",
       "    .dataframe tbody tr th {\n",
       "        vertical-align: top;\n",
       "    }\n",
       "\n",
       "    .dataframe thead th {\n",
       "        text-align: right;\n",
       "    }\n",
       "</style>\n",
       "<table border=\"1\" class=\"dataframe\">\n",
       "  <thead>\n",
       "    <tr style=\"text-align: right;\">\n",
       "      <th></th>\n",
       "      <th>exploded_words</th>\n",
       "      <th>word_count</th>\n",
       "      <th>word_length</th>\n",
       "    </tr>\n",
       "  </thead>\n",
       "  <tbody>\n",
       "    <tr>\n",
       "      <th>0</th>\n",
       "      <td>people</td>\n",
       "      <td>112</td>\n",
       "      <td>6</td>\n",
       "    </tr>\n",
       "    <tr>\n",
       "      <th>1</th>\n",
       "      <td>should</td>\n",
       "      <td>73</td>\n",
       "      <td>6</td>\n",
       "    </tr>\n",
       "    <tr>\n",
       "      <th>2</th>\n",
       "      <td>speakers</td>\n",
       "      <td>53</td>\n",
       "      <td>8</td>\n",
       "    </tr>\n",
       "    <tr>\n",
       "      <th>3</th>\n",
       "      <td>conference</td>\n",
       "      <td>37</td>\n",
       "      <td>10</td>\n",
       "    </tr>\n",
       "    <tr>\n",
       "      <th>4</th>\n",
       "      <td>everyone</td>\n",
       "      <td>35</td>\n",
       "      <td>8</td>\n",
       "    </tr>\n",
       "    <tr>\n",
       "      <th>5</th>\n",
       "      <td>because</td>\n",
       "      <td>34</td>\n",
       "      <td>7</td>\n",
       "    </tr>\n",
       "    <tr>\n",
       "      <th>6</th>\n",
       "      <td>better</td>\n",
       "      <td>29</td>\n",
       "      <td>6</td>\n",
       "    </tr>\n",
       "    <tr>\n",
       "      <th>7</th>\n",
       "      <td>workshops</td>\n",
       "      <td>26</td>\n",
       "      <td>9</td>\n",
       "    </tr>\n",
       "    <tr>\n",
       "      <th>8</th>\n",
       "      <td>before</td>\n",
       "      <td>22</td>\n",
       "      <td>6</td>\n",
       "    </tr>\n",
       "    <tr>\n",
       "      <th>9</th>\n",
       "      <td>everything</td>\n",
       "      <td>21</td>\n",
       "      <td>10</td>\n",
       "    </tr>\n",
       "  </tbody>\n",
       "</table>\n",
       "</div>"
      ],
      "text/plain": [
       "  exploded_words  word_count  word_length\n",
       "0         people         112            6\n",
       "1         should          73            6\n",
       "2       speakers          53            8\n",
       "3     conference          37           10\n",
       "4       everyone          35            8\n",
       "5        because          34            7\n",
       "6         better          29            6\n",
       "7      workshops          26            9\n",
       "8         before          22            6\n",
       "9     everything          21           10"
      ]
     },
     "metadata": {},
     "output_type": "display_data"
    }
   ],
   "source": [
    "#graphing the length of the word against its frequency\n",
    "words_feedback_len = words_feedback.withColumn('word_length', sf.length(words_feedback['exploded_words']))\n",
    "display(words_feedback_len.limit(10).toPandas())"
   ]
  },
  {
   "cell_type": "code",
   "execution_count": 20,
   "metadata": {},
   "outputs": [
    {
     "data": {
      "text/plain": [
       "<matplotlib.axes._subplots.AxesSubplot at 0x1f3441967c8>"
      ]
     },
     "execution_count": 20,
     "metadata": {},
     "output_type": "execute_result"
    },
    {
     "data": {
      "image/png": "[encoded data removed]",
      "text/plain": [
       "<Figure size 432x288 with 1 Axes>"
      ]
     },
     "metadata": {},
     "output_type": "display_data"
    }
   ],
   "source": [
    "#this scatterplot includes information about the frequency of the words against their length\n",
    "words_feedback_len_pandas = words_feedback_len.limit(1000).toPandas()\n",
    "sns.scatterplot(x='word_length', y='word_count', data=words_feedback_len_pandas)"
   ]
  },
  {
   "cell_type": "code",
   "execution_count": 21,
   "metadata": {},
   "outputs": [
    {
     "data": {
      "image/png": "[encoded data removed]",
      "text/plain": [
       "<Figure size 432x288 with 1 Axes>"
      ]
     },
     "metadata": {},
     "output_type": "display_data"
    }
   ],
   "source": [
    "# pie chart which represents the top 10 words and their frequency\n",
    "labels = \"people\", \"should\", \"speakers\", \"conference\",\"everyone\",\"because\",\"better\",\"workshops\",\"things\",\"marketing\"\n",
    "sizes = [201,125,92,66,65,58,52,47,43,36]\n",
    "colors=[\"red\",\"lightblue\",\"coral\",\"yellow\",\"green\",\"purple\",\"pink\",\"grey\",\"beige\",\"orange\"]\n",
    "\n",
    "plt.pie(sizes, labels=labels, colors=colors, autopct='%1.1f%%')\n",
    "plt.axis(\"equal\")\n",
    "plt.show()"
   ]
  },
  {
   "cell_type": "code",
   "execution_count": 22,
   "metadata": {},
   "outputs": [],
   "source": [
    "#Next, we are looking for specific words and showing how many times they were mentioned in the documents"
   ]
  },
  {
   "cell_type": "code",
   "execution_count": 23,
   "metadata": {},
   "outputs": [
    {
     "name": "stdout",
     "output_type": "stream",
     "text": [
      "+----------------+----------+\n",
      "|  exploded_words|word_count|\n",
      "+----------------+----------+\n",
      "|      all!!!good|         1|\n",
      "|microphones-good|         1|\n",
      "| themselves.good|         1|\n",
      "+----------------+----------+\n",
      "\n"
     ]
    }
   ],
   "source": [
    "words_feedback.filter(words_feedback.exploded_words.contains('good')).show(10)"
   ]
  },
  {
   "cell_type": "code",
   "execution_count": 24,
   "metadata": {},
   "outputs": [
    {
     "name": "stdout",
     "output_type": "stream",
     "text": [
      "+---------------+----------+\n",
      "| exploded_words|word_count|\n",
      "+---------------+----------+\n",
      "|bad.information|         1|\n",
      "|     bad!toshev|         1|\n",
      "+---------------+----------+\n",
      "\n"
     ]
    }
   ],
   "source": [
    "words_feedback.filter(words_feedback.exploded_words.contains('bad')).show(10)"
   ]
  },
  {
   "cell_type": "code",
   "execution_count": 25,
   "metadata": {},
   "outputs": [
    {
     "name": "stdout",
     "output_type": "stream",
     "text": [
      "+--------------+----------+\n",
      "|exploded_words|word_count|\n",
      "+--------------+----------+\n",
      "|       toshev,|         1|\n",
      "|    bad!toshev|         1|\n",
      "|      toshev�s|         1|\n",
      "| toshev!praise|         1|\n",
      "|        toshev|         1|\n",
      "+--------------+----------+\n",
      "\n"
     ]
    }
   ],
   "source": [
    "words_feedback.filter(words_feedback.exploded_words.contains('toshev')).show(10)"
   ]
  },
  {
   "cell_type": "code",
   "execution_count": 26,
   "metadata": {},
   "outputs": [
    {
     "name": "stdout",
     "output_type": "stream",
     "text": [
      "+------------------+----------+\n",
      "|    exploded_words|word_count|\n",
      "+------------------+----------+\n",
      "|        conference|        37|\n",
      "|       conference,|         7|\n",
      "|       conference.|         4|\n",
      "|       conference!|         2|\n",
      "|  conference.let's|         1|\n",
      "|   conference?they|         1|\n",
      "|conferences!!!very|         1|\n",
      "|       conferences|         1|\n",
      "+------------------+----------+\n",
      "\n"
     ]
    }
   ],
   "source": [
    "words_feedback.filter(words_feedback.exploded_words.contains('conference')).show(10)"
   ]
  },
  {
   "cell_type": "code",
   "execution_count": 27,
   "metadata": {},
   "outputs": [
    {
     "name": "stdout",
     "output_type": "stream",
     "text": [
      "+--------------+----------+\n",
      "|exploded_words|word_count|\n",
      "+--------------+----------+\n",
      "|        better|        29|\n",
      "|       better,|         1|\n",
      "|   better.this|         1|\n",
      "|       better.|         1|\n",
      "|      better.a|         1|\n",
      "+--------------+----------+\n",
      "\n"
     ]
    }
   ],
   "source": [
    "words_feedback.filter(words_feedback.exploded_words.contains('better')).show(10)"
   ]
  },
  {
   "cell_type": "code",
   "execution_count": 28,
   "metadata": {},
   "outputs": [
    {
     "name": "stdout",
     "output_type": "stream",
     "text": [
      "+--------------+----------+\n",
      "|exploded_words|word_count|\n",
      "+--------------+----------+\n",
      "|      speakers|        53|\n",
      "|     speakers,|         7|\n",
      "|     speakers.|         3|\n",
      "|     speakers�|         1|\n",
      "|  speakers.did|         1|\n",
      "|     speakers)|         1|\n",
      "|     speakers:|         1|\n",
      "|     (speakers|         1|\n",
      "|  speakers.yes|         1|\n",
      "|   speakers.to|         1|\n",
      "+--------------+----------+\n",
      "\n"
     ]
    }
   ],
   "source": [
    "words_feedback.filter(words_feedback.exploded_words.contains('speakers')).show(10)"
   ]
  },
  {
   "cell_type": "code",
   "execution_count": 29,
   "metadata": {},
   "outputs": [],
   "source": [
    "sc.stop()  #stopping the spark context"
   ]
  }
 ],
 "metadata": {
  "kernelspec": {
   "display_name": "Python 3",
   "language": "python",
   "name": "python3"
  },
  "language_info": {
   "codemirror_mode": {
    "name": "ipython",
    "version": 3
   },
   "file_extension": ".py",
   "mimetype": "text/x-python",
   "name": "python",
   "nbconvert_exporter": "python",
   "pygments_lexer": "ipython3",
   "version": "3.7.6"
  }
 },
 "nbformat": 4,
 "nbformat_minor": 2
}
